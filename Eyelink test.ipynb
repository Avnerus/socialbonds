{
 "cells": [
  {
   "cell_type": "code",
   "execution_count": 1,
   "metadata": {
    "collapsed": false,
    "scrolled": true
   },
   "outputs": [
    {
     "name": "stderr",
     "output_type": "stream",
     "text": [
      "/Volumes/Store/Avner/Projects/socialbonds/venv/lib/python2.7/site-packages/numexpr-2.5.2-py2.7-macosx-10.11-x86_64.egg/numexpr/cpuinfo.py:76: UserWarning: [Errno 2] No such file or directory\n",
      "  stacklevel=stacklevel + 1):\n",
      "/Volumes/Store/Avner/Projects/socialbonds/venv/lib/python2.7/site-packages/cili-0.5.3-py2.7.egg/cili/util.py:252: FutureWarning: convert_objects is deprecated.  Use the data-type specific converters pd.to_datetime, pd.to_timedelta and pd.to_numeric.\n"
     ]
    }
   ],
   "source": [
    "from cili.util import *\n",
    "#samps, events = load_eyelink_dataset(\"/home/avnerus/Code/eegtest/EyeLink/pilotexp_eye.asc\")\n",
    "#samps, events = load_eyelink_dataset(\"/Volumes/Store/Avner/POUYAN-BRAIN/POUYAN.asc\")\n",
    "samps, events = load_eyelink_dataset(\"/Volumes/Store/Avner/MATTI-BRAIN/MATTI.asc\")"
   ]
  },
  {
   "cell_type": "code",
   "execution_count": 2,
   "metadata": {
    "collapsed": false
   },
   "outputs": [
    {
     "name": "stdout",
     "output_type": "stream",
     "text": [
      "           name  b_num  state\n",
      "5606473  BUTTON      1      1\n",
      "5606523  BUTTON      1      0\n",
      "8761209  BUTTON      1      1\n",
      "8761259  BUTTON      1      0\n"
     ]
    }
   ],
   "source": [
    "buttons = events.BUTTON\n",
    "print(buttons)"
   ]
  },
  {
   "cell_type": "code",
   "execution_count": 8,
   "metadata": {
    "collapsed": false
   },
   "outputs": [
    {
     "name": "stdout",
     "output_type": "stream",
     "text": [
      "x_r                     885.8\n",
      "y_r                     649.6\n",
      "pup_r                     251\n",
      "input                       0\n",
      "samp_warns                ...\n",
      "targ_x                   5257\n",
      "targ_y                   4769\n",
      "targ_dist               715.2\n",
      "remote_warns    ....F........\n",
      "Name: 5606476, dtype: object\n"
     ]
    }
   ],
   "source": [
    "print samps.loc[5606476]"
   ]
  },
  {
   "cell_type": "code",
   "execution_count": 4,
   "metadata": {
    "collapsed": false
   },
   "outputs": [
    {
     "name": "stdout",
     "output_type": "stream",
     "text": [
      "Int64Index([5606473, 8761209], dtype='int64')\n"
     ]
    }
   ],
   "source": [
    "from cili.extract import extract_event_ranges\n",
    "#print(samps)\n",
    "\n",
    "\n",
    "#FIRST INDEX WORK AROUND\n",
    "#pouyanMs = (48 * 60 + 30) * 1000 + 160\n",
    "#print(\"Total Pouyan time: %dms\" % (pouyanMs))\n",
    "#pouyan_start = indexes[0] - pouyanMs\n",
    "#pouyan_samples = samps.loc[pouyan_start:indexes[0]][['x_r','y_r']] # 1521526\n",
    "\n",
    "indexes = buttons[(buttons.state == 1)].index\n",
    "print(indexes)\n",
    "\n",
    "matti_samples = samps.loc[indexes[0]:indexes[1]][['x_r','y_r']] # 1521526\n",
    "\n",
    "#interesting_samples = samps.loc[indexes[0]:indexes[1]][['x_r','y_r']] # 1521526\n",
    "\n",
    "\n",
    "#print(samps.loc[indexes[0]:indexes[1]])\n",
    "#print(interesting_samples)"
   ]
  },
  {
   "cell_type": "code",
   "execution_count": 6,
   "metadata": {
    "collapsed": false
   },
   "outputs": [],
   "source": [
    "# Chunk it in SQL\n",
    "import sqlite3\n",
    "conn = sqlite3.connect('matti_eyedata.db')\n",
    "c = conn.cursor()\n",
    "c.execute('DROP TABLE data')\n",
    "c.execute('CREATE TABLE data(onset int primary key not null,x_r real,y_r real)')\n",
    "matti_samples.to_sql('data', conn, if_exists='replace')"
   ]
  },
  {
   "cell_type": "code",
   "execution_count": 7,
   "metadata": {
    "collapsed": true
   },
   "outputs": [],
   "source": [
    "conn.commit()\n",
    "conn.close()"
   ]
  },
  {
   "cell_type": "code",
   "execution_count": null,
   "metadata": {
    "collapsed": true
   },
   "outputs": [],
   "source": []
  },
  {
   "cell_type": "code",
   "execution_count": null,
   "metadata": {
    "collapsed": true
   },
   "outputs": [],
   "source": []
  }
 ],
 "metadata": {
  "kernelspec": {
   "display_name": "Python 2",
   "language": "python",
   "name": "python2"
  },
  "language_info": {
   "codemirror_mode": {
    "name": "ipython",
    "version": 2
   },
   "file_extension": ".py",
   "mimetype": "text/x-python",
   "name": "python",
   "nbconvert_exporter": "python",
   "pygments_lexer": "ipython2",
   "version": "2.7.11"
  }
 },
 "nbformat": 4,
 "nbformat_minor": 0
}
