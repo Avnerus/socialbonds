{
 "cells": [
  {
   "cell_type": "code",
   "execution_count": 1,
   "metadata": {
    "collapsed": false
   },
   "outputs": [
    {
     "name": "stderr",
     "output_type": "stream",
     "text": [
      "/usr/lib64/python2.7/site-packages/cili-0.5.3-py2.7.egg/cili/util.py:252: FutureWarning: convert_objects is deprecated.  Use the data-type specific converters pd.to_datetime, pd.to_timedelta and pd.to_numeric.\n"
     ]
    }
   ],
   "source": [
    "from cili.util import *\n",
    "samps, events = load_eyelink_dataset(\"/home/avnerus/Code/eegtest/EyeLink/pilotexp_eye.asc\")"
   ]
  },
  {
   "cell_type": "code",
   "execution_count": 61,
   "metadata": {
    "collapsed": false
   },
   "outputs": [],
   "source": [
    "from cili.extract import extract_event_ranges\n",
    "buttons = events.BUTTON\n",
    "indexes = buttons[(buttons.state == 0)].index\n",
    "#print(indexes)\n",
    "interesting_samples = samps.loc[indexes[0]:indexes[1]][['x_r','y_r']] # 1521526\n",
    "#print(interesting_samples)"
   ]
  },
  {
   "cell_type": "code",
   "execution_count": 62,
   "metadata": {
    "collapsed": true
   },
   "outputs": [],
   "source": [
    "# Chunk it in SQL\n",
    "import sqlite3\n",
    "conn = sqlite3.connect('eyedata.db')\n",
    "c = conn.cursor()\n",
    "c.execute('''CREATE TABLE data\n",
    "             (\n",
    "             onset int primary key not null, \n",
    "             x_r real, \n",
    "             y_r real \n",
    "             )''')\n",
    "interesting_samples.to_sql('data', conn, if_exists='replace')"
   ]
  },
  {
   "cell_type": "code",
   "execution_count": 63,
   "metadata": {
    "collapsed": true
   },
   "outputs": [],
   "source": [
    "conn.commit()\n",
    "conn.close()"
   ]
  }
 ],
 "metadata": {
  "kernelspec": {
   "display_name": "Python 2",
   "language": "python",
   "name": "python2"
  },
  "language_info": {
   "codemirror_mode": {
    "name": "ipython",
    "version": 2
   },
   "file_extension": ".py",
   "mimetype": "text/x-python",
   "name": "python",
   "nbconvert_exporter": "python",
   "pygments_lexer": "ipython2",
   "version": "2.7.10"
  }
 },
 "nbformat": 4,
 "nbformat_minor": 0
}
