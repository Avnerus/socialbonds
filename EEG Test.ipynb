{
 "cells": [
  {
   "cell_type": "code",
   "execution_count": 14,
   "metadata": {
    "collapsed": false
   },
   "outputs": [
    {
     "name": "stdout",
     "output_type": "stream",
     "text": [
      "Populating the interactive namespace from numpy and matplotlib\n"
     ]
    }
   ],
   "source": [
    "import mne\n",
    "import sqlite3\n",
    "%pylab qt\n",
    "\n",
    "mne.set_log_level('WARNING')"
   ]
  },
  {
   "cell_type": "code",
   "execution_count": 15,
   "metadata": {
    "collapsed": false
   },
   "outputs": [
    {
     "name": "stdout",
     "output_type": "stream",
     "text": [
      "<Info | 17 non-empty fields\n",
      "    bads : list | 0 items\n",
      "    buffer_size_sec : float | 1.0\n",
      "    ch_names : 'mne.io.meas_info._ChannelNameList | Fp1, Fp2, F7, Fz, F8, T7, C3, Cz, C4, T8\n",
      "    chs : list | 27 items (EEG: 26, STIM: 1)\n",
      "    comps : list | 0 items\n",
      "    custom_ref_applied : bool | False\n",
      "    dev_head_t : 'mne.transforms.Transform | 3 items\n",
      "    events : list | 0 items\n",
      "    filename : unicode | /home/avne.../test2.eeg\n",
      "    highpass : float | 0.1 Hz\n",
      "    hpi_meas : list | 0 items\n",
      "    hpi_results : list | 0 items\n",
      "    lowpass : float | 1000.0 Hz\n",
      "    meas_date : int | 1460767151\n",
      "    nchan : int | 27\n",
      "    projs : list | 0 items\n",
      "    sfreq : float | 5000.0 Hz\n",
      "    acq_pars : NoneType\n",
      "    acq_stim : NoneType\n",
      "    ctf_head_t : NoneType\n",
      "    description : NoneType\n",
      "    dev_ctf_t : NoneType\n",
      "    dig : NoneType\n",
      "    experimenter : NoneType\n",
      "    file_id : NoneType\n",
      "    hpi_subsystem : NoneType\n",
      "    line_freq : NoneType\n",
      "    meas_id : NoneType\n",
      "    proj_id : NoneType\n",
      "    proj_name : NoneType\n",
      "    subject_info : NoneType\n",
      "    xplotter_layout : NoneType\n",
      ">\n"
     ]
    }
   ],
   "source": [
    "raw = mne.io.read_raw_brainvision('/home/avnerus/Code/eegtest/EEG/test2.vhdr')\n",
    "print(raw.info)"
   ]
  },
  {
   "cell_type": "code",
   "execution_count": 16,
   "metadata": {
    "collapsed": false
   },
   "outputs": [
    {
     "name": "stdout",
     "output_type": "stream",
     "text": [
      "<ChannelNameList | 27 channels | Fp1, Fp2, F7, Fz, F8 ... O1, Oz, O2, PO10, STI 014>\n"
     ]
    }
   ],
   "source": [
    "print(raw.ch_names)"
   ]
  },
  {
   "cell_type": "code",
   "execution_count": 17,
   "metadata": {
    "collapsed": false
   },
   "outputs": [],
   "source": [
    "#raw.plot()"
   ]
  },
  {
   "cell_type": "code",
   "execution_count": 18,
   "metadata": {
    "collapsed": false
   },
   "outputs": [],
   "source": [
    "events = mne.find_events(raw)"
   ]
  },
  {
   "cell_type": "code",
   "execution_count": 19,
   "metadata": {
    "collapsed": false,
    "scrolled": true
   },
   "outputs": [
    {
     "name": "stdout",
     "output_type": "stream",
     "text": [
      "[[  344615        0        2]\n",
      " [15559615        0        2]]\n"
     ]
    }
   ],
   "source": [
    "print (events)"
   ]
  },
  {
   "cell_type": "code",
   "execution_count": 20,
   "metadata": {
    "collapsed": false
   },
   "outputs": [
    {
     "name": "stdout",
     "output_type": "stream",
     "text": [
      "(50000, 75000)\n"
     ]
    }
   ],
   "source": [
    "start, stop = raw.time_as_index([10,15])  # 10 s to 15 s data segment\n",
    "print(start,stop)"
   ]
  },
  {
   "cell_type": "code",
   "execution_count": 21,
   "metadata": {
    "collapsed": false
   },
   "outputs": [],
   "source": [
    "data, times = raw[:, start:stop]\n"
   ]
  },
  {
   "cell_type": "code",
   "execution_count": 30,
   "metadata": {
    "collapsed": false
   },
   "outputs": [
    {
     "name": "stdout",
     "output_type": "stream",
     "text": [
      "[  8.01000000e-05   7.59000000e-05   6.95000000e-05 ...,  -1.02800000e-04\n",
      "  -1.04200000e-04  -1.05300000e-04]\n"
     ]
    }
   ],
   "source": [
    "print(data[0][:])"
   ]
  },
  {
   "cell_type": "code",
   "execution_count": 26,
   "metadata": {
    "collapsed": true
   },
   "outputs": [],
   "source": [
    "conn = sqlite3.connect('eegdata.db')\n",
    "c = conn.cursor()"
   ]
  },
  {
   "cell_type": "code",
   "execution_count": 29,
   "metadata": {
    "collapsed": false
   },
   "outputs": [
    {
     "data": {
      "text/plain": [
       "<sqlite3.Cursor at 0x7fc3ad6f8650>"
      ]
     },
     "execution_count": 29,
     "metadata": {},
     "output_type": "execute_result"
    }
   ],
   "source": [
    "# Create table\n",
    "c.execute('''CREATE TABLE data\n",
    "             (channel integer, value real)''')"
   ]
  },
  {
   "cell_type": "code",
   "execution_count": 33,
   "metadata": {
    "collapsed": false
   },
   "outputs": [],
   "source": [
    "channel0 = map(lambda x: (0,x), data[0])\n"
   ]
  },
  {
   "cell_type": "code",
   "execution_count": 36,
   "metadata": {
    "collapsed": false
   },
   "outputs": [
    {
     "data": {
      "text/plain": [
       "<sqlite3.Cursor at 0x7fc3ad6f8650>"
      ]
     },
     "execution_count": 36,
     "metadata": {},
     "output_type": "execute_result"
    }
   ],
   "source": [
    "c.executemany('INSERT INTO data VALUES (?,?)', channel0)"
   ]
  },
  {
   "cell_type": "code",
   "execution_count": 37,
   "metadata": {
    "collapsed": true
   },
   "outputs": [],
   "source": [
    "conn.commit()\n",
    "conn.close()"
   ]
  },
  {
   "cell_type": "code",
   "execution_count": null,
   "metadata": {
    "collapsed": true
   },
   "outputs": [],
   "source": []
  }
 ],
 "metadata": {
  "kernelspec": {
   "display_name": "Python 2",
   "language": "python",
   "name": "python2"
  },
  "language_info": {
   "codemirror_mode": {
    "name": "ipython",
    "version": 2
   },
   "file_extension": ".py",
   "mimetype": "text/x-python",
   "name": "python",
   "nbconvert_exporter": "python",
   "pygments_lexer": "ipython2",
   "version": "2.7.10"
  }
 },
 "nbformat": 4,
 "nbformat_minor": 0
}
