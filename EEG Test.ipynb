{
 "cells": [
  {
   "cell_type": "code",
   "execution_count": 1,
   "metadata": {
    "collapsed": false
   },
   "outputs": [
    {
     "name": "stdout",
     "output_type": "stream",
     "text": [
      "Populating the interactive namespace from numpy and matplotlib\n"
     ]
    }
   ],
   "source": [
    "import mne\n",
    "import sqlite3\n",
    "%pylab qt\n",
    "\n",
    "mne.set_log_level('WARNING')"
   ]
  },
  {
   "cell_type": "code",
   "execution_count": 2,
   "metadata": {
    "collapsed": false
   },
   "outputs": [
    {
     "name": "stdout",
     "output_type": "stream",
     "text": [
      "The data contains 'boundary' events, indicating data discontinuities. Be cautious of filtering and epoching around these events.\n",
      "Events like the following will be dropped entirely: [u'boundary', u'no USB Connection to actiCAP'], 2 in total\n",
      "Some event codes could not be mapped to integers. Use the `event_id` parameter to map such events to integers manually.\n",
      "<Info | 16 non-empty fields\n",
      "    bads : list | 0 items\n",
      "    buffer_size_sec : float | 1.0\n",
      "    ch_names : 'mne.io.meas_info._ChannelNameList | Fp1, Fp2, F7, F3, Fz, F4, F8, FC5, FC1, FC2\n",
      "    chs : list | 33 items (EEG: 32, STIM: 1)\n",
      "    comps : list | 0 items\n",
      "    custom_ref_applied : bool | False\n",
      "    dev_head_t : 'mne.transforms.Transform | 3 items\n",
      "    events : list | 0 items\n",
      "    highpass : float | 0.0 Hz\n",
      "    hpi_meas : list | 0 items\n",
      "    hpi_results : list | 0 items\n",
      "    lowpass : float | 250.0 Hz\n",
      "    meas_date : numpy.ndarray | 1970-01-01 02:00:00\n",
      "    nchan : int | 33\n",
      "    projs : list | 0 items\n",
      "    sfreq : float | 500.0 Hz\n",
      "    acq_pars : NoneType\n",
      "    acq_stim : NoneType\n",
      "    ctf_head_t : NoneType\n",
      "    description : NoneType\n",
      "    dev_ctf_t : NoneType\n",
      "    dig : NoneType\n",
      "    experimenter : NoneType\n",
      "    file_id : NoneType\n",
      "    filename : NoneType\n",
      "    hpi_subsystem : NoneType\n",
      "    line_freq : NoneType\n",
      "    meas_id : NoneType\n",
      "    proj_id : NoneType\n",
      "    proj_name : NoneType\n",
      "    subject_info : NoneType\n",
      "    xplotter_layout : NoneType\n",
      ">\n"
     ]
    },
    {
     "name": "stderr",
     "output_type": "stream",
     "text": [
      "/usr/lib64/python2.7/site-packages/ipykernel/__main__.py:3: RuntimeWarning: The data contains 'boundary' events, indicating data discontinuities. Be cautious of filtering and epoching around these events.\n",
      "  app.launch_new_instance()\n",
      "/usr/lib64/python2.7/site-packages/ipykernel/__main__.py:3: RuntimeWarning: Events like the following will be dropped entirely: [u'boundary', u'no USB Connection to actiCAP'], 2 in total\n",
      "  app.launch_new_instance()\n",
      "/usr/lib64/python2.7/site-packages/ipykernel/__main__.py:3: RuntimeWarning: Some event codes could not be mapped to integers. Use the `event_id` parameter to map such events to integers manually.\n",
      "  app.launch_new_instance()\n"
     ]
    }
   ],
   "source": [
    "#raw = mne.io.read_raw_brainvision('/Volumes/Store/Avner/POUYAN-BRAIN/pouyan.vhdr')\n",
    "#raw = mne.io.read_raw_brainvision('/home/avnerus/Code/eegtest/EEG/test2.vhdr')\n",
    "raw = mne.io.read_raw_eeglab('/home/avnerus/Code/eegtest/MATTI/matti_rs_cl_fl.set')\n",
    "#raw = mne.io.read_raw_brainvision('/Volumes/Store/Avner/MATTI-BRAIN/matti.vhdr')\n",
    "\n",
    "print(raw.info)"
   ]
  },
  {
   "cell_type": "code",
   "execution_count": null,
   "metadata": {
    "collapsed": false,
    "scrolled": true
   },
   "outputs": [],
   "source": [
    "print((raw.ch_names))"
   ]
  },
  {
   "cell_type": "code",
   "execution_count": 12,
   "metadata": {
    "collapsed": false
   },
   "outputs": [],
   "source": [
    "events = mne.find_events(raw)"
   ]
  },
  {
   "cell_type": "code",
   "execution_count": 13,
   "metadata": {
    "collapsed": false,
    "scrolled": true
   },
   "outputs": [
    {
     "name": "stdout",
     "output_type": "stream",
     "text": [
      "[[  36118       0       2]\n",
      " [1613461       0       2]]\n"
     ]
    }
   ],
   "source": [
    "print (events)"
   ]
  },
  {
   "cell_type": "code",
   "execution_count": 14,
   "metadata": {
    "collapsed": false
   },
   "outputs": [
    {
     "name": "stdout",
     "output_type": "stream",
     "text": [
      "<RawEEGLAB  |  matti_rs_cl_fl.fdt, n_channels x n_times : 10 x 1651660 (3303.3 sec)>\n"
     ]
    }
   ],
   "source": [
    "# Pick the centro-parietal channels\n",
    "raw.preload = True\n",
    "centro_parietal_channels = ['C3','Cz','C4','CP1','CP2','CP5','CP6','P3','Pz','P4']\n",
    "specific_chans = raw.pick_channels(centro_parietal_channels, copy=True)\n",
    "print(specific_chans)"
   ]
  },
  {
   "cell_type": "code",
   "execution_count": 15,
   "metadata": {
    "collapsed": false,
    "scrolled": false
   },
   "outputs": [
    {
     "name": "stdout",
     "output_type": "stream",
     "text": [
      "Experiment times 72.236000 --> 3226.922000\n"
     ]
    }
   ],
   "source": [
    "first_event_sec = specific_chans.times[36118]\n",
    "last_event_sec = specific_chans.times[1613461]\n",
    "print(\"Experiment times %f --> %f\" % (first_event_sec, last_event_sec))"
   ]
  },
  {
   "cell_type": "markdown",
   "metadata": {},
   "source": [
    "Experiment times 72.235800 --> 3226.920800"
   ]
  },
  {
   "cell_type": "code",
   "execution_count": 17,
   "metadata": {
    "collapsed": false,
    "scrolled": true
   },
   "outputs": [
    {
     "name": "stdout",
     "output_type": "stream",
     "text": [
      "(36118, 1613461)\n"
     ]
    }
   ],
   "source": [
    "#last_event_sec = specific_chans.times[1490754]\n",
    "\n",
    "#FIRST INDEX WORK AROUND\n",
    "#pouyan_sec = 48 * 60 + 30.16\n",
    "\n",
    "#first_event_sec = last_event_sec - pouyan_sec\n",
    "\n",
    "#print(\"Total Pouyan time: %f\" % (pouyan_sec))\n",
    "#pouyan_start = indexes[0] - pouyanMs\n",
    "\n",
    "#first_event_sec = 72.235800\n",
    "#last_event_sec = 3226.920800\n",
    "\n",
    "\n",
    "#start, stop = specific_chans.time_as_index([first_event_sec,last_event_sec]) \n",
    "\n",
    "start = events[0][0]\n",
    "stop = events[1][0]\n",
    "print(start,stop)\n"
   ]
  },
  {
   "cell_type": "code",
   "execution_count": 18,
   "metadata": {
    "collapsed": false
   },
   "outputs": [
    {
     "name": "stdout",
     "output_type": "stream",
     "text": [
      "<RawEEGLAB  |  matti_rs_cl_fl.fdt, n_channels x n_times : 10 x 1651660 (3303.3 sec)>\n"
     ]
    }
   ],
   "source": [
    "specific_chans = specific_chans.load_data()\n",
    "specific_chans.preload = False\n",
    "data, times = specific_chans[:, start:stop]\n",
    "print(specific_chans)"
   ]
  },
  {
   "cell_type": "code",
   "execution_count": 19,
   "metadata": {
    "collapsed": false
   },
   "outputs": [
    {
     "name": "stdout",
     "output_type": "stream",
     "text": [
      "1577343\n"
     ]
    }
   ],
   "source": [
    "print(len(data[0]))"
   ]
  },
  {
   "cell_type": "code",
   "execution_count": 20,
   "metadata": {
    "collapsed": false
   },
   "outputs": [],
   "source": [
    "def get_lpp(index):    \n",
    "    first_index = int(index + raw.info['sfreq'] * 0.4)\n",
    "    last_index = int(index + raw.info['sfreq'] * 0.7)\n",
    "    if last_index < len(data[0]):\n",
    "        #print(\"Will get maximum value between index %d and %d\" % (first_index, last_index))       \n",
    "        \n",
    "        max_amplitude = data[:,first_index:last_index + 1].sum(axis=0).max()\n",
    "        present_value = data[:,index].sum()\n",
    "        \n",
    "        lpp  = max_amplitude - present_value\n",
    "        return lpp\n",
    "    else:\n",
    "        return 0\n",
    "        \n",
    "lpp_values = []\n",
    "for i in range(len(data[0])):\n",
    "    lpp_values.append(get_lpp(i))\n",
    "\n",
    "               "
   ]
  },
  {
   "cell_type": "code",
   "execution_count": 33,
   "metadata": {
    "collapsed": false
   },
   "outputs": [
    {
     "name": "stdout",
     "output_type": "stream",
     "text": [
      "Populating the interactive namespace from numpy and matplotlib\n"
     ]
    }
   ],
   "source": [
    "#plt.rcParams[\"figure.figsize\"] = [20.0,8.0]\n",
    "#%pylab qt\n",
    "a = hist(lpp_values, bins=500)\n"
   ]
  },
  {
   "cell_type": "code",
   "execution_count": 37,
   "metadata": {
    "collapsed": false,
    "scrolled": true
   },
   "outputs": [
    {
     "name": "stdout",
     "output_type": "stream",
     "text": [
      "0.000300010442151\n"
     ]
    }
   ],
   "source": [
    "print(a[1][180])"
   ]
  },
  {
   "cell_type": "code",
   "execution_count": 38,
   "metadata": {
    "collapsed": false
   },
   "outputs": [],
   "source": [
    "conn = sqlite3.connect('matti_eeg.db')\n",
    "c = conn.cursor()"
   ]
  },
  {
   "cell_type": "code",
   "execution_count": 39,
   "metadata": {
    "collapsed": false
   },
   "outputs": [
    {
     "data": {
      "text/plain": [
       "<sqlite3.Cursor at 0x1f56b7650>"
      ]
     },
     "execution_count": 39,
     "metadata": {},
     "output_type": "execute_result"
    }
   ],
   "source": [
    "# Create table\n",
    "c.execute('''CREATE TABLE data\n",
    "             (\n",
    "             channel0 real, \n",
    "             channel1 real, \n",
    "             channel2 real, \n",
    "             channel3 real, \n",
    "             channel4 real, \n",
    "             channel5 real, \n",
    "             channel6 real, \n",
    "             channel7 real, \n",
    "             channel8 real, \n",
    "             channel9 real, \n",
    "             lpp real)''')"
   ]
  },
  {
   "cell_type": "code",
   "execution_count": 40,
   "metadata": {
    "collapsed": false
   },
   "outputs": [],
   "source": [
    "channels = []\n",
    "for value_index in range(len(data[0])):\n",
    "    all_channels = []\n",
    "    for channel_index in range(10):\n",
    "        all_channels.append(data[channel_index][value_index])\n",
    "    all_channels.append(lpp_values[value_index])\n",
    "        \n",
    "    channels.append(tuple(all_channels))      \n",
    "    \n",
    "    \n",
    "#channel0 = map(lambda x: (0,x), data[0])\n"
   ]
  },
  {
   "cell_type": "code",
   "execution_count": 41,
   "metadata": {
    "collapsed": false
   },
   "outputs": [],
   "source": [
    "#print(data[1][1])"
   ]
  },
  {
   "cell_type": "code",
   "execution_count": 42,
   "metadata": {
    "collapsed": false
   },
   "outputs": [
    {
     "data": {
      "text/plain": [
       "<sqlite3.Cursor at 0x1f56b7650>"
      ]
     },
     "execution_count": 42,
     "metadata": {},
     "output_type": "execute_result"
    }
   ],
   "source": [
    "c.executemany('INSERT INTO data VALUES (?,?,?,?,?,?,?,?,?,?,?)', channels)"
   ]
  },
  {
   "cell_type": "code",
   "execution_count": 43,
   "metadata": {
    "collapsed": true
   },
   "outputs": [],
   "source": [
    "conn.commit()\n",
    "conn.close()"
   ]
  },
  {
   "cell_type": "code",
   "execution_count": null,
   "metadata": {
    "collapsed": true
   },
   "outputs": [],
   "source": []
  }
 ],
 "metadata": {
  "kernelspec": {
   "display_name": "Python 2",
   "language": "python",
   "name": "python2"
  },
  "language_info": {
   "codemirror_mode": {
    "name": "ipython",
    "version": 2
   },
   "file_extension": ".py",
   "mimetype": "text/x-python",
   "name": "python",
   "nbconvert_exporter": "python",
   "pygments_lexer": "ipython2",
   "version": "2.7.10"
  }
 },
 "nbformat": 4,
 "nbformat_minor": 0
}
